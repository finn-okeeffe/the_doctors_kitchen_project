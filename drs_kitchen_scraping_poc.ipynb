{
 "cells": [
  {
   "cell_type": "code",
   "execution_count": 1,
   "metadata": {},
   "outputs": [],
   "source": [
    "import requests\n",
    "from bs4 import BeautifulSoup"
   ]
  },
  {
   "cell_type": "markdown",
   "metadata": {},
   "source": [
    "# Proof of Concept\n",
    "---\n",
    "\n",
    "To test out web scraping The Doctor's Kitchen, I'll try extracting the data I need from one recipe. I'll just use the first presented on the website, https://thedoctorskitchen.com/recipes/smoky-mushroom-and-tempeh-veggie-burgers/."
   ]
  },
  {
   "cell_type": "code",
   "execution_count": 2,
   "metadata": {},
   "outputs": [
    {
     "name": "stdout",
     "output_type": "stream",
     "text": [
      "Status Code: 200\n"
     ]
    }
   ],
   "source": [
    "# URL = \"https://thedoctorskitchen.com/recipes/smoky-mushroom-and-tempeh-veggie-burgers/\"\n",
    "# URL = \"https://thedoctorskitchen.com/recipes/beetroot-apple-and-ginger-soup/\"\n",
    "# URL = \"https://thedoctorskitchen.com/recipes/tarragon-mushrooms-on-toast/\"\n",
    "URL = \"https://thedoctorskitchen.com/recipes/air-fried-aubergine-tomato-cucumber-and-egg-chopped-salad-with-hummus-and-tahini-dressing/\"\n",
    "\n",
    "page = requests.get(URL)\n",
    "print(\"Status Code:\",page.status_code)\n",
    "\n",
    "if page.status_code == 200:\n",
    "    soup = BeautifulSoup(page.content, \"html.parser\")"
   ]
  },
  {
   "cell_type": "markdown",
   "metadata": {},
   "source": [
    "# Recipe Title\n",
    "The recipe title is simply contained in HTML like the following:\n",
    "```HTML\n",
    "<h1 class=\"lg:mb-3 mb-2 xl:text-h1-head lg:text-h2 text-h2-head font-bold text-white print:text-black\" itemprop=\"name\">Smoky Mushroom and Tempeh Veggie Burgers </h1>\n",
    "```\n",
    "\n",
    "## Implementation\n",
    "The following code gets this title by simply searching for the HTML tag with the attribute `itemprop=\"name\"`."
   ]
  },
  {
   "cell_type": "code",
   "execution_count": 3,
   "metadata": {},
   "outputs": [
    {
     "name": "stdout",
     "output_type": "stream",
     "text": [
      "Air-Fried Aubergine, Tomato, Cucumber and Egg Chopped Salad with Hummus and Tahini Dressing\n"
     ]
    }
   ],
   "source": [
    "def get_recipe_title(soup):\n",
    "    itemprop_tag = \"name\"\n",
    "    return soup.find(itemprop=itemprop_tag).text.strip()\n",
    "\n",
    "title = get_recipe_title(soup)\n",
    "print(title)"
   ]
  },
  {
   "cell_type": "markdown",
   "metadata": {},
   "source": [
    "# Number of Servings\n",
    "The number of servings is contained in the following HTML:\n",
    "```HTML\n",
    "<h3 class=\"mb-1.5 text-h3 font-medium text-black\">Ingredients (Serves <span itemprop=\"recipeYield\">4</span>)</h3>\n",
    "```\n",
    "\n",
    "## Implementation\n",
    "To get the number of servings, we simply search for the HTML tag with attribut `itemprop=\"recipeYield\"` and convert the text it contains to an integer."
   ]
  },
  {
   "cell_type": "code",
   "execution_count": 4,
   "metadata": {},
   "outputs": [
    {
     "name": "stdout",
     "output_type": "stream",
     "text": [
      "2\n"
     ]
    }
   ],
   "source": [
    "def get_recipe_servings(soup):\n",
    "    itemprop_tag = \"recipeYield\"\n",
    "    return int(soup.find(itemprop=itemprop_tag).text.strip())\n",
    "\n",
    "num_servings = get_recipe_servings(soup)\n",
    "print(num_servings)"
   ]
  },
  {
   "cell_type": "markdown",
   "metadata": {},
   "source": [
    "# Recipe Vegan/Vegetarian/etc\n",
    "Recipes on 'The Doctors Kitchen' have tags like 'vegan' or 'vegetarian'. It seems like each recipe only has one such tag. These appear in the HTML as follows:\n",
    "```HTML\n",
    "<div class=\"order-2 relative self-center md:w-5/12 sm:w-1/2 w-full xl:px-12 lg:px-8 md:px-6 xs:px-10 px-7 sm:py-0 xs:py-10 py-6 z-20 print:p-4\">\n",
    "\t<h1 class=\"lg:mb-3 mb-2 xl:text-h1-head lg:text-h2 text-h2-head font-bold text-white print:text-black\" itemprop=\"name\">\n",
    "\t\tSmoky Mushroom and Tempeh Veggie Burgers \n",
    "\t</h1>\n",
    "\t<span class=\"inline-block mr-4 mt-2 xl:text-h3 lg:text-lg text-base text-white print:text-black\">\n",
    "\t\t<i class=\"inline-block mr-2 xl:text-perex text-xl fal fa-leaf align-middle\"></i>\n",
    "        Vegetarian\n",
    "    </span>\n",
    "</div>\n",
    "```\n",
    "Their parent `<span>` looks very auto-generated, but there's not much more I can do than grab it. Doing a search in the HTML for this class name only reveals this result, so hopefully it's safe to use. Not every recipe has a tag like this (e.g., https://thedoctorskitchen.com/recipes/cooks-white-bean-prawn-saganaki/).\n",
    "\n",
    "## Implementation\n",
    "We grab the span with the complicated class name `\"inline-block mr-4 mt-2 xl:text-h3 lg:text-lg text-base text-white print:text-black\"`, then get its second child. As follows:"
   ]
  },
  {
   "cell_type": "code",
   "execution_count": 5,
   "metadata": {},
   "outputs": [
    {
     "name": "stdout",
     "output_type": "stream",
     "text": [
      "Vegetarian\n"
     ]
    }
   ],
   "source": [
    "def get_recipe_tag(soup):\n",
    "    class_name = \"inline-block mr-4 mt-2 xl:text-h3 lg:text-lg text-base text-white print:text-black\"\n",
    "    tag_soup = soup.find(class_=class_name)\n",
    "    if tag_soup:\n",
    "        return tag_soup.contents[2].strip()\n",
    "    else:\n",
    "        return None\n",
    "    \n",
    "recipe_tag = get_recipe_tag(soup)\n",
    "print(recipe_tag)"
   ]
  },
  {
   "cell_type": "markdown",
   "metadata": {},
   "source": [
    "# Meal Tag\n",
    "Recipes on The Doctor's Kitchen contain a tag with what meals the recipe can be used for. These are:\n",
    "- Breakfast\n",
    "- Lunch\n",
    "- Dinner\n",
    "- Snack\n",
    "These tags are contained in the following HTML:\n",
    "```HTML\n",
    "<a href=\"/recipes/breakfast\" class=\"inline-block mr-2 mb-2 px-2 py-1.5 md:text-label text-labelsmall font-bold text-white bg-docGreen uppercase tracking-wider\">\n",
    "\tBreakfast\n",
    "</a>\n",
    "```\n",
    "And the class name is the same for each type, so we'll just use the class to identify the meal."
   ]
  },
  {
   "cell_type": "code",
   "execution_count": 6,
   "metadata": {},
   "outputs": [
    {
     "name": "stdout",
     "output_type": "stream",
     "text": [
      "['Lunch', 'Dinner']\n"
     ]
    }
   ],
   "source": [
    "def recipe_meals(soup):\n",
    "    class_name = \"inline-block mr-2 mb-2 px-2 py-1.5 md:text-label text-labelsmall font-bold text-white bg-docGreen uppercase tracking-wider\"\n",
    "    name = \"a\"\n",
    "    return [subsoup.text.strip() for subsoup in soup.find_all(name, class_=class_name)]\n",
    "\n",
    "meals = recipe_meals(soup)\n",
    "print(meals)"
   ]
  },
  {
   "cell_type": "markdown",
   "metadata": {},
   "source": [
    "# Cooking time\n",
    "Recipe's have cooking time split between two times: a prep time, and a cook time. We will grab both of these. They are both contained in the following HTML:\n",
    "```HTML\n",
    "<span class=\"inline-block mr-1 mb-2 px-2 py-1.5 md:text-label text-labelsmall font-bold text-white bg-docGreen uppercase tracking-wider\">Prep: <span itemprop=\"prepTime\" content=\"PT20M\">20</span> mins</span>\n",
    "\n",
    "<span class=\"inline-block mr-1 mb-2 px-2 py-1.5 md:text-label text-labelsmall font-bold text-white bg-docGreen uppercase tracking-wider\">Cooks: <span itemprop=\"cookTime\" content=\"PT10M\">10</span> mins</span>\n",
    "```\n",
    "These seem to always appear on every page. When there is no cooking time, the 'Cooks:' text still appears, there is just no text next to it. So it should be safe to grab the numbers contained in 'prepTime' and 'cookTime' spans, and assume the unit is minutes. We have to make sure to allow for missing text in either span."
   ]
  },
  {
   "cell_type": "code",
   "execution_count": 7,
   "metadata": {},
   "outputs": [],
   "source": [
    "def get_prep_and_cook_time_in_mins(soup):\n",
    "    prep_time_itemprop_tag = \"prepTime\"\n",
    "    prep_time = soup.find(itemprop=prep_time_itemprop_tag).text.strip()\n",
    "    prep_time = float(prep_time) if len(prep_time)>0 else None\n",
    "\n",
    "    \n",
    "    cook_time_itemprop_tag = \"cookTime\"\n",
    "    cook_time = soup.find(itemprop=cook_time_itemprop_tag).text.strip()\n",
    "    cook_time = float(cook_time) if len(cook_time)>0 else None\n",
    "\n",
    "    return prep_time, cook_time\n",
    "\n",
    "prep_time, cook_time = get_prep_and_cook_time_in_mins(soup)"
   ]
  },
  {
   "cell_type": "markdown",
   "metadata": {},
   "source": [
    "# Ingredients\n",
    "\n",
    "The ingredients are contained in an unordered list, and each ingredient is a list like the following:\n",
    "```HTML\n",
    "<li class=\"block mt-4 sm:text-lg text-base text-black text-opacity-70\" itemprop=\"recipeIngredient\">\n",
    "\t<span data-min=\"150\" data-max=\"\" class=\"r4-ingre-metric\">\n",
    "\t\t150 g\n",
    "\t</span> \n",
    "\n",
    "\t<span data-min=\"5.290500000000001\" data-max=\"\" class=\"r4-ingre-imperial hidden\">\n",
    "\t\t<span data-nr=\"5.290500000000001\" class=\"imperial-nr\">\n",
    "\t\t\t5.3\n",
    "\t\t</span>\n",
    "\t\t oz\n",
    "\t</span> \n",
    "\n",
    "\twhite onion\n",
    "\t\n",
    "\t<span class=\"block text-md text-gray-400\">finely diced</span>\n",
    "</li>\n",
    "```\n",
    "The children of the `<li>` tag with the property `itemprop=\"recipeIngredient` are:\n",
    "1. The metric measurement of an ingredient (including the units), is text inside the span with class `r4-ingre-metric`.\n",
    "\t- For an ingredient without a unit, like a number of whole onions, the metric span just contains a number.\n",
    "2. The imperial measurements are contained in the span with class `r4-ingre-imperial hidden`, and unlike the metric measurement is split by quantity and unit.\n",
    "3. The ingredient name.\n",
    "4. Preparation instructions.\n",
    "\t- This tag is present even for an ingredient like olive oil, which does not require preparation. In this case it just contains no text.\n",
    "\n",
    "## Implementation\n",
    "The following code uses beautiful soup to find the elements, then extracts the required text into an `Ingredient` object with attributes for the ingredient name, quantity, unit, and preparation steps. For some reason the ingredient lists appears twice in the HTML, so in `get_ingredients` I just take the first half of the total ingredients list.\n",
    "\n",
    "> **Note**: The code assumes the measurement text contained in the `r4-ingre-metric` span is split into a list of length 1 or 2. If it's longer (e.g. '3 table spoons'), it will raise a ValueError."
   ]
  },
  {
   "cell_type": "code",
   "execution_count": 8,
   "metadata": {},
   "outputs": [
    {
     "name": "stdout",
     "output_type": "stream",
     "text": [
      "<Ingredient object: name='eggs'; quantity=4.0, measurement_unit=None, preparation=None>\n",
      "<Ingredient object: name='aubergine'; quantity=300.0, measurement_unit='g', preparation='2cm cubed'>\n",
      "<Ingredient object: name='olive oil'; quantity=1.0, measurement_unit='tbsp', preparation=None>\n",
      "<Ingredient object: name='wholegrain pitta'; quantity=2.0, measurement_unit=None, preparation='cut into 2cm pieces'>\n",
      "<Ingredient object: name='cucumber'; quantity=160.0, measurement_unit='g', preparation='2cm cubed'>\n",
      "<Ingredient object: name='tomatoes'; quantity=160.0, measurement_unit='g', preparation='2cm cubed'>\n",
      "<Ingredient object: name='gherkins'; quantity=30.0, measurement_unit='g', preparation='finely diced'>\n",
      "<Ingredient object: name='lemon'; quantity=1.0, measurement_unit=None, preparation='juiced'>\n",
      "<Ingredient object: name='tahini'; quantity=4.0, measurement_unit='tbsp', preparation=None>\n",
      "<Ingredient object: name='water'; quantity=2.0, measurement_unit='tbsp', preparation='or as needed'>\n",
      "<Ingredient object: name='hummus'; quantity=6.0, measurement_unit='tbsp', preparation=None>\n",
      "<Ingredient object: name='parsley'; quantity=10.0, measurement_unit='g', preparation='roughly chopped'>\n"
     ]
    }
   ],
   "source": [
    "class Ingredient():\n",
    "    def __init__(self, name, quantity, measurement_unit=None, preparation=None):\n",
    "        self.name = name\n",
    "        self.quantity = quantity\n",
    "        self.measurement_unit = measurement_unit\n",
    "        self.preparation = preparation\n",
    "    \n",
    "    def __repr__(self):\n",
    "        return f\"<Ingredient object: name={self.name.__repr__()}; quantity={self.quantity.__repr__()}, measurement_unit={self.measurement_unit.__repr__()}, preparation={self.preparation.__repr__()}>\"\n",
    "\n",
    "\n",
    "def get_ingredients(soup):\n",
    "    itemprop_tag = \"recipeIngredient\"\n",
    "\n",
    "    recipeIngredients = soup.find_all(itemprop=itemprop_tag)\n",
    "\n",
    "    ingredient_objects = []\n",
    "    for ingredient_soup in recipeIngredients:\n",
    "        ingredientObject = ingredient_soup_to_IngredientObject(ingredient_soup)\n",
    "        ingredient_objects.append(ingredientObject)\n",
    "    \n",
    "    # recipe ingredients are duplicated in the HTML, so we split the list down the middle\n",
    "    ingredient_objects = ingredient_objects[:len(ingredient_objects)//2]\n",
    "\n",
    "    return ingredient_objects\n",
    "\n",
    "\n",
    "def ingredient_soup_to_IngredientObject(ingredient_soup):\n",
    "    metric_measurement_class = \"r4-ingre-metric\"\n",
    "    measurement = ingredient_soup.find(class_=metric_measurement_class).text.split()\n",
    "    preparation_name = \"span\"\n",
    "    preparation_class = \"block text-md text-gray-400\"\n",
    "\n",
    "    quantity = None\n",
    "    measurement_unit = None\n",
    "    if len(measurement) >= 1:\n",
    "        quantity = float(measurement[0])\n",
    "    if len(measurement) == 2:\n",
    "        measurement_unit = measurement[1]\n",
    "    elif len(measurement) > 2:\n",
    "        raise ValueError(f\"Measurement {measurement} has length {len(measurement)} > 2\")\n",
    "    \n",
    "    name = ingredient_soup.contents[-2].strip()\n",
    "\n",
    "    preparation = ingredient_soup.find(preparation_name, preparation_class).text.strip()\n",
    "    if preparation == \"\":\n",
    "        preparation = None\n",
    "    \n",
    "    return Ingredient(name, quantity, measurement_unit=measurement_unit, preparation=preparation)\n",
    "\n",
    "\n",
    "ingredient_objects = get_ingredients(soup)\n",
    "for i in ingredient_objects:\n",
    "    print(i)"
   ]
  },
  {
   "cell_type": "markdown",
   "metadata": {},
   "source": [
    "# Description\n",
    "Recipes on the site have a short description of the recipe. This is contained in the following HTML:\n",
    "```HTML\n",
    "<h2 class=\"text-perex font-medium text-docGreen\" itemprop=\"description\">\n",
    "\tIf you want to cut back on red meat, have a veggie friend coming to a barbecue, or want to convince a plant-based sceptic, this recipe is guaranteed to please. Tempeh is an excellent source of protein and prebiotic fibres. Combined with mushrooms we think it makes these plant-based burgers taste unbelievably meaty and super good for your gut microbes!\n",
    "</h2>\n",
    "```\n",
    "There are other tags with the attribute `itemprop=\"description\"`, so we need to look for the `<h2>` with this attribute."
   ]
  },
  {
   "cell_type": "code",
   "execution_count": 9,
   "metadata": {},
   "outputs": [
    {
     "name": "stdout",
     "output_type": "stream",
     "text": [
      "This is our salad version of a sabich, a popular street food sandwich in Tel Aviv that originated in the Iraqi Jewish community. Meltingly tender fried aubergine, crunchy gherkins and a refreshing chopped cucumber and tomato salad, drizzled with a luscious tahini dressing. \n",
      "\n",
      "The aubergine is traditionally deep-fried, here we have used an air-fryer to keep things lighter. If you don’t have one the aubergine can be baked in the oven at 190°C for 20 minutes, until tender and dark golden brown.\n"
     ]
    }
   ],
   "source": [
    "def recipe_description(soup):\n",
    "    itemprop_tag = \"description\"\n",
    "    name = \"h2\"\n",
    "    desc = soup.find(name, itemprop=itemprop_tag).text.strip()\n",
    "    desc = None if len(desc) == 0 else desc\n",
    "    return desc\n",
    "\n",
    "description = recipe_description(soup)\n",
    "print(description)"
   ]
  },
  {
   "cell_type": "markdown",
   "metadata": {},
   "source": [
    "# Method\n",
    "The recipe steps are contained in the following HTML:\n",
    "```HTML\n",
    "<div class=\"r4-instruction-list\" itemprop=\"recipeInstructions\">\n",
    "\t<div class=\"r4-instruction-item\" itemprop=\"itemListElement\" itemscope itemtype=\"https://schema.org/ListItem\">\n",
    "\t\t<div class=\"r4-instruction-img\">\n",
    "\t\t\t<img src=\"...\" width=\"960\" alt=\"Gather ...\" itemprop=\"image\">\n",
    "\t\t</div>\n",
    "\t\t<p itemprop=\"description\">\n",
    "\t\t\tGather and prepare your ingredients.\n",
    "\t\t</p>\n",
    "\t</div>\n",
    "\t\n",
    "\t<div class=\"r4-instruction-item\" itemprop=\"itemListElement\" itemscope itemtype=\"https://schema.org/ListItem\">\n",
    "\t\t<div class=\"r4-instruction-img\">\n",
    "\t\t\t<img src=\"...\" width=\"960\" alt=\"Heat ha...\" itemprop=\"image\">\n",
    "\t\t</div>\n",
    "\t\t<p itemprop=\"description\">\n",
    "\t\t\tHeat half the olive oil in a frying pan over medium-high heat. Add the onion, garlic and a light sprinkle of salt and pepper. Cook for 3-4 minutes until softened and translucent.\n",
    "\t\t</p>\n",
    "\t</div>\n",
    "\t\n",
    "\t<div class=\"r4-instruction-item\" itemprop=\"itemListElement\" itemscope itemtype=\"https://schema.org/ListItem\">\n",
    "\t\t<div class=\"r4-instruction-img\">\n",
    "\t\t\t<img src=\"...\" width=\"960\" alt=\"Add the...\" itemprop=\"image\">\n",
    "\t\t</div>\n",
    "\t\t<p itemprop=\"description\">\n",
    "\t\t\tAdd the mushrooms to the pan and sprinkle lightly with salt and pepper. Cook, stirring occasionally, for 3-4 minutes, until reduced. Then add the tempeh, paprika, tomato puree and tamari and cook, stirring often, for a further 5-6 minutes, until everything is darkened, sticky and caramelised. Remove from the heat, stir through the oats and allow to cool slightly.\n",
    "\t\t</p>\n",
    "\t</div>\n",
    "\t\n",
    "\t...\n",
    "\t\n",
    "</div>\n",
    "```\n",
    "\n",
    "To get the steps in a list, I just extracted all `<p>` tags with the attribute `itemprop=\"description\"`. Some have sub-steps, so I extracted the text of their contents rather than the straight text of the `<p>`."
   ]
  },
  {
   "cell_type": "code",
   "execution_count": 10,
   "metadata": {},
   "outputs": [
    {
     "name": "stdout",
     "output_type": "stream",
     "text": [
      "1)  Gather and prepare your ingredients.\n",
      "\n",
      "2)  Bring a small pot of water to the boil and gently add the eggs. Boil for 7 minutes, then remove and run under cold water to halt the cooking process. Once cool, peel and slice into wedges.\n",
      "\n",
      "3)  Lightly drizzle the aubergine with olive oil and sprinkle with salt and pepper. Toss to coat. Place into the basket and ‘fry’ at 190°C for 7-8 minutes, until dark golden brown and tender but not completely cooked.\n",
      "\n",
      "4)  Lightly drizzle the chopped pitta breads with olive oil, sprinkle with salt and pepper and toss to coat. Add to the air-fryer with the aubergine and cook for a further 4-5 minutes, until the bread is golden and crispy and the aubergine is completely tender.\n",
      "\n",
      "5)  Place the cucumber, tomato and gherkins into a bowl, squeeze over half the lemon juice and toss to coat. Add salt to taste.\n",
      "\n",
      "6)  To make the tahini sauce place the tahini and remaining lemon juice into a medium bowl and whisk to combine. It will seize slightly, add water and whisk until smooth and pourable. Add salt to taste.\n",
      "\n",
      "7)  To serve, spread some hummus onto the base of your serving plate. Arrange the chopped tomato and cucumber, aubergine, pitta bread, and eggs on top.  Drizzle with the tahini sauce and sprinkle with parsley.\n",
      "\n"
     ]
    }
   ],
   "source": [
    "def recipe_method(soup):\n",
    "    name = \"p\"\n",
    "    itemprop_tag = \"description\"\n",
    "\n",
    "    steps_soup_list = soup.find_all(name, itemprop=\"description\")\n",
    "    steps_list = []\n",
    "    for step in steps_soup_list:\n",
    "        for item in step.contents:\n",
    "            steps_list.append(item.text.strip())\n",
    "    \n",
    "    return steps_list\n",
    "    # return [s.text.strip() for s in soup.find_all(name, itemprop=\"description\")]\n",
    "\n",
    "method = recipe_method(soup)\n",
    "for i, step in enumerate(method):\n",
    "    print(f\"{i+1})  {step}\\n\")"
   ]
  },
  {
   "cell_type": "markdown",
   "metadata": {},
   "source": [
    "# Extracting Equipment from the Recipe Steps\n",
    "We check for the presence of the phrases in `equipment_dict` in the method steps, and in the ingredients list. See the obsidian notes."
   ]
  },
  {
   "cell_type": "code",
   "execution_count": 11,
   "metadata": {},
   "outputs": [
    {
     "name": "stdout",
     "output_type": "stream",
     "text": [
      "{'chopping board', 'scale', 'air fryer', 'bowl', 'pot', 'measuring spoons', 'knife'}\n"
     ]
    }
   ],
   "source": [
    "# words and phrases which indicate use of a specific piece of equipment:\n",
    "# FORMAT:\n",
    "#       \"equipment_name\": {\"synonym\", \"phrase to look for\"}\n",
    "\n",
    "equipment_dict = {\n",
    "    \"pan\": {\"pan\", \"frypan\"},\n",
    "    \"pot\": {\"pot\", \"boil\", \"saucepan\"},\n",
    "    \"blender\": {\"blend\"},\n",
    "    \"air fryer\": {\"air frier\", \"air fryer\"},\n",
    "    \"toaster\": {\"toaster\", \"toast\"},\n",
    "    \"oven\": {\"oven\", \"bake\", \"roast\"},\n",
    "    \"cast-iron pan\": {\"cast iron pan\"},\n",
    "    \"knife\": {\"slice\", \"sliced\", \"chop\", \"chopped\", \"dice\", \"diced\", \"cube\", \"cubed\"},\n",
    "    \"chopping board\": {\"slice\", \"sliced\", \"chop\", \"chopped\", \"dice\", \"diced\", \"cube\", \"cubed\", \"board\"},\n",
    "    \"measuring spoons\": {\"tbsp\", \"tsp\"},\n",
    "    \"measuring cup\": {\"cup\", \"ml\"},\n",
    "    \"scale\": {\"g\", \"gram\", \"grams\"},\n",
    "    \"bowl\": {\"bowl\"},\n",
    "    \"baking paper\": {\"baking paper\", \"baking parchment\"},\n",
    "    \"fridge\": {\"fridge\", \"refridgerator\"},\n",
    "    \"freezer\": {\"freezer\"}\n",
    "}\n",
    "\n",
    "character_replacement_dict = {\n",
    "    \"-\": \" \"\n",
    "}\n",
    "\n",
    "def string_to_standard_string(string):\n",
    "    string = [character_replacement_dict[c] if c in character_replacement_dict else c for c in string]\n",
    "    string = ''.join([c.lower() for c in string if c.isalnum() or c.isspace()])\n",
    "    return string\n",
    "\n",
    "def method_alnum_string_from_list(method):\n",
    "    method_alnum = []\n",
    "    for step in method:\n",
    "        method_alnum.append(string_to_standard_string(step))\n",
    "\n",
    "    method_alnum_string = ' '.join(method_alnum)\n",
    "    return method_alnum_string\n",
    "\n",
    "def method_words_list(soup):\n",
    "    method_list = recipe_method(soup)\n",
    "    method_string = method_alnum_string_from_list(method_list)\n",
    "    return list(method_string.split())\n",
    "\n",
    "def equipment_set(soup):\n",
    "    words = method_words_list(soup)\n",
    "\n",
    "    equipment_set_object = set()\n",
    "    for equipment, phrases in equipment_dict.items():\n",
    "\n",
    "        for phrase in phrases:\n",
    "            if phrase_in_str_list(phrase,words) or phrase_in_ingredients(phrase, ingredient_objects):\n",
    "                equipment_set_object.add(equipment)\n",
    "                break\n",
    "    \n",
    "    return equipment_set_object\n",
    "\n",
    "def phrase_in_str_list(phrase, str_list):\n",
    "    phrase_list = phrase.split()\n",
    "    l = len(phrase_list)\n",
    "    for i in range(len(str_list)-l+1):\n",
    "        if str_list[i:i+l] == phrase_list:\n",
    "            return True\n",
    "    return False\n",
    "\n",
    "def phrase_in_ingredients(phrase, ingredient_objects):\n",
    "    name_list = [string_to_standard_string(ingredient.name) for ingredient in ingredient_objects if not ingredient.name is None]\n",
    "    unit_list = [string_to_standard_string(ingredient.measurement_unit) for ingredient in ingredient_objects if not ingredient.measurement_unit is None]\n",
    "\n",
    "    preparation_list = []\n",
    "    for ingredient in ingredient_objects:\n",
    "        prep = ingredient.preparation\n",
    "        if prep is not None:\n",
    "            preparation_list = preparation_list + string_to_standard_string(ingredient.preparation).split()\n",
    "\n",
    "    combined_list = name_list + unit_list + preparation_list\n",
    "\n",
    "    return phrase in combined_list\n",
    "\n",
    "\n",
    "equipments = equipment_set(soup)\n",
    "print(equipments)"
   ]
  },
  {
   "cell_type": "markdown",
   "metadata": {},
   "source": [
    "# Summary\n",
    "We summarise these results in a class, which shows a markdown summary when printed."
   ]
  },
  {
   "cell_type": "code",
   "execution_count": 17,
   "metadata": {},
   "outputs": [
    {
     "name": "stdout",
     "output_type": "stream",
     "text": [
      "# AIR-FRIED AUBERGINE, TOMATO, CUCUMBER AND EGG CHOPPED SALAD WITH HUMMUS AND TAHINI DRESSING\n",
      "https://thedoctorskitchen.com/recipes/air-fried-aubergine-tomato-cucumber-and-egg-chopped-salad-with-hummus-and-tahini-dressing/\n",
      "Total time: 25.0 mins\n",
      "\n",
      "## MEALS\n",
      "- Lunch\n",
      "- Dinner\n",
      "\n",
      "## DESCRIPTION\n",
      "This is our salad version of a sabich, a popular street food sandwich in Tel Aviv that originated in the Iraqi Jewish community. Meltingly tender fried aubergine, crunchy gherkins and a refreshing chopped cucumber and tomato salad, drizzled with a luscious tahini dressing. \n",
      "\n",
      "The aubergine is traditionally deep-fried, here we have used an air-fryer to keep things lighter. If you don’t have one the aubergine can be baked in the oven at 190°C for 20 minutes, until tender and dark golden brown.\n",
      "\n",
      "## EQUIPMENT\n",
      "- chopping board\n",
      "- scale\n",
      "- air fryer\n",
      "- bowl\n",
      "- pot\n",
      "- measuring spoons\n",
      "- knife\n",
      "\n",
      "## INGREDIENTS\n",
      "- eggs, 4.0 None\n",
      "- aubergine, 300.0 g\n",
      "- olive oil, 1.0 tbsp\n",
      "- wholegrain pitta, 2.0 None\n",
      "- cucumber, 160.0 g\n",
      "- tomatoes, 160.0 g\n",
      "- gherkins, 30.0 g\n",
      "- lemon, 1.0 None\n",
      "- tahini, 4.0 tbsp\n",
      "- water, 2.0 tbsp\n",
      "- hummus, 6.0 tbsp\n",
      "- parsley, 10.0 g\n",
      "\n"
     ]
    }
   ],
   "source": [
    "class Recipe():\n",
    "    def __init__(self, url, soup, title, description, tags, meals, servings, prep_time, cook_time, ingredients, equipment, method):\n",
    "        self.url = url\n",
    "        self.soup = soup\n",
    "        self.title = title\n",
    "        self.description = description\n",
    "        self.tags = tags\n",
    "        self.meals = meals\n",
    "        self.servings = servings\n",
    "        self.prep_time = prep_time\n",
    "        self.cook_time = cook_time\n",
    "        self.ingredients = ingredients\n",
    "        self.equipment = equipment\n",
    "        self.method = method\n",
    "    \n",
    "    def __str__(self):\n",
    "        rep = f\"# {self.title.upper()}\\n\"\n",
    "        rep += f\"{self.url}\\n\"\n",
    "        rep += f\"Total time: {self.prep_time + self.cook_time} mins\\n\"\n",
    "\n",
    "        rep += self.subheader(\"meals\")\n",
    "        for meal in meals:\n",
    "            rep += f\"- {meal}\\n\"\n",
    "\n",
    "        rep += self.subheader(\"description\")\n",
    "        rep += f\"{self.description}\\n\"\n",
    "\n",
    "        rep += self.subheader(\"equipment\")\n",
    "        for e in self.equipment:\n",
    "            rep += f\"- {e}\\n\"\n",
    "        \n",
    "        rep += self.subheader(\"ingredients\")\n",
    "        for ingredientObject in self.ingredients:\n",
    "            rep += f\"- {ingredientObject.name}, {ingredientObject.quantity} {ingredientObject.measurement_unit}\\n\"\n",
    "        return rep\n",
    "    \n",
    "    def subheader(self, string):\n",
    "        return f\"\\n## {string.upper()}\\n\"\n",
    "\n",
    "exampleRecipe = Recipe(URL, soup, title, description, recipe_tag, meals, num_servings, prep_time, cook_time, ingredient_objects, equipments, method)\n",
    "print(exampleRecipe)"
   ]
  }
 ],
 "metadata": {
  "kernelspec": {
   "display_name": "base",
   "language": "python",
   "name": "python3"
  },
  "language_info": {
   "codemirror_mode": {
    "name": "ipython",
    "version": 3
   },
   "file_extension": ".py",
   "mimetype": "text/x-python",
   "name": "python",
   "nbconvert_exporter": "python",
   "pygments_lexer": "ipython3",
   "version": "3.9.12"
  },
  "orig_nbformat": 4
 },
 "nbformat": 4,
 "nbformat_minor": 2
}
